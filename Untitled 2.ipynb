{
 "cells": [
  {
   "cell_type": "markdown",
   "id": "4ff53d71",
   "metadata": {},
   "source": [
    "# InfernoSight: Advanced Data Science for Accurate Forest Fire Area Forecasting"
   ]
  },
  {
   "cell_type": "markdown",
   "id": "e470804c",
   "metadata": {},
   "source": [
    "### Problem Statement\n",
    "\n",
    "**_Prediction of Forest Fire Impact Area Based on Geographical and Temporal Characteristics_**\n",
    "\n",
    "`How well can we identify the area that gets affected given the geographical and temporal characteristics? By leveraging advanced data science algorithms and analyzing various related information, such as location, time, and other relevant factors, our model aims to forecast the extent of forest fire impact with a high degree of precision. Through rigorous data analysis and predictive modeling, our project aims to contribute to proactive fire management strategies and decision-making, enabling better preparedness, mitigation, and response measures for forest fires.`\n",
    "\n",
    "### Data\n",
    "\n",
    "TODO: Explaining how we created the dataset.\n",
    "\n",
    "### Evaluation metrics\n",
    "\n",
    "TODO: Root mean squared error or root mean squared log error \n",
    "As with many regression evaluations, the goal will be to get this value as low as possible.\n",
    "\n",
    "### Features\n",
    "\n",
    "TODO: Explaining the features of dataset (Providing links to important info)\n"
   ]
  },
  {
   "cell_type": "markdown",
   "id": "e652ade4",
   "metadata": {},
   "source": [
    "## Data Preprocessing "
   ]
  },
  {
   "cell_type": "code",
   "execution_count": 1,
   "id": "e3dc8a64",
   "metadata": {},
   "outputs": [],
   "source": [
    "# Import data analysis tools \n",
    "import pandas as pd\n",
    "import numpy as np\n",
    "import matplotlib.pyplot as plt"
   ]
  },
  {
   "cell_type": "code",
   "execution_count": 5,
   "id": "03b5f90a",
   "metadata": {},
   "outputs": [
    {
     "name": "stdout",
     "output_type": "stream",
     "text": [
      "<class 'pandas.core.frame.DataFrame'>\n",
      "RangeIndex: 14186 entries, 0 to 14185\n",
      "Data columns (total 27 columns):\n",
      " #   Column                      Non-Null Count  Dtype  \n",
      "---  ------                      --------------  -----  \n",
      " 0   Unnamed: 0                  14186 non-null  int64  \n",
      " 1   FIRE_ID                     14186 non-null  object \n",
      " 2   Fire Name                   14186 non-null  object \n",
      " 3   Acres                       14186 non-null  float64\n",
      " 4   Date                        14186 non-null  object \n",
      " 5   Fire Type                   14186 non-null  object \n",
      " 6   LATITUDE                    14186 non-null  float64\n",
      " 7   LONGITUDE                   14186 non-null  float64\n",
      " 8   time                        14186 non-null  object \n",
      " 9   weathercode                 14186 non-null  int64  \n",
      " 10  temperature_2m_max          14186 non-null  float64\n",
      " 11  temperature_2m_min          14186 non-null  float64\n",
      " 12  temperature_2m_mean         14186 non-null  float64\n",
      " 13  apparent_temperature_max    14186 non-null  float64\n",
      " 14  apparent_temperature_min    14186 non-null  float64\n",
      " 15  apparent_temperature_mean   14186 non-null  float64\n",
      " 16  sunrise                     14186 non-null  object \n",
      " 17  sunset                      14186 non-null  object \n",
      " 18  shortwave_radiation_sum     14186 non-null  float64\n",
      " 19  precipitation_sum           14186 non-null  float64\n",
      " 20  rain_sum                    14186 non-null  float64\n",
      " 21  snowfall_sum                14186 non-null  float64\n",
      " 22  precipitation_hours         14186 non-null  float64\n",
      " 23  windspeed_10m_max           14186 non-null  float64\n",
      " 24  windgusts_10m_max           14186 non-null  float64\n",
      " 25  winddirection_10m_dominant  14186 non-null  int64  \n",
      " 26  et0_fao_evapotranspiration  14186 non-null  float64\n",
      "dtypes: float64(17), int64(3), object(7)\n",
      "memory usage: 2.9+ MB\n"
     ]
    }
   ],
   "source": [
    "# Importing dataset\n",
    "\n",
    "dataset = pd.read_csv(\"forest_fire_dataset.csv\", low_memory=False)\n",
    "dataset.info()"
   ]
  },
  {
   "cell_type": "code",
   "execution_count": null,
   "id": "b813931e",
   "metadata": {},
   "outputs": [],
   "source": [
    "dataset."
   ]
  },
  {
   "cell_type": "code",
   "execution_count": null,
   "id": "747b7c28",
   "metadata": {},
   "outputs": [],
   "source": []
  }
 ],
 "metadata": {
  "kernelspec": {
   "display_name": "Python 3 (ipykernel)",
   "language": "python",
   "name": "python3"
  },
  "language_info": {
   "codemirror_mode": {
    "name": "ipython",
    "version": 3
   },
   "file_extension": ".py",
   "mimetype": "text/x-python",
   "name": "python",
   "nbconvert_exporter": "python",
   "pygments_lexer": "ipython3",
   "version": "3.9.13"
  }
 },
 "nbformat": 4,
 "nbformat_minor": 5
}
