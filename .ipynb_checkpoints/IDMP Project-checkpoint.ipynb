{
 "cells": [
  {
   "cell_type": "code",
   "execution_count": 22,
   "id": "ab9b4e21",
   "metadata": {},
   "outputs": [],
   "source": [
    "import os\n",
    "import zipfile\n",
    "import xml.etree.ElementTree as ET\n",
    "import pandas as pd"
   ]
  },
  {
   "cell_type": "code",
   "execution_count": 33,
   "id": "53b3f194",
   "metadata": {},
   "outputs": [
    {
     "name": "stdout",
     "output_type": "stream",
     "text": [
      "id4222111319320070706.zip First\n",
      "temp_folder subroot\n",
      "[] subdirs\n",
      "['id4222111319320070706_20060901_20080906_burn_bndy.prj', 'ID4222111319320070706_20060901_20080906_metadata.xml', 'id4222111319320070706_20060901_20080906_dnbr6.rrd', 'id4222111319320070706_20060901_20080906_burn_bndy.sbn', 'id4222111319320070706_20060901_20080906_mask.dbf', 'id4222111319320070706_20060901_20080906_dnbr6.tif', 'id4222111319320070706_20060901_20080906_mask.shp', 'id4222111319320070706_20080906_l5_refl.aux', 'id4222111319320070706_20060901_20080906_rdnbr.tif', 'id4222111319320070706_20060901_20080906_mask.shx', 'id4222111319320070706_20060901_20080906_mask.sbx', 'id4222111319320070706_20060901_l5_refl.rrd', 'id4222111319320070706_20060901_20080906_dnbr.tif', 'id4222111319320070706_map.pdf', 'id4222111319320070706_20060901_l5_refl.tif', 'id4222111319320070706_20060901_20080906_dnbr.rrd', 'id4222111319320070706_20060901_20080906_rdnbr.rrd', 'id4222111319320070706_20060901_20080906_burn_bndy.shp', 'id4222111319320070706_20060901_20080906.kmz', 'id4222111319320070706_20060901_20080906_burn_bndy.shx', 'id4222111319320070706_20060901_20080906_dnbr6.aux', 'id4222111319320070706_20060901_20080906_burn_bndy.sbx', 'id4222111319320070706_20060901_20080906_mask.prj', 'id4222111319320070706_20080906_l5_refl.rrd', 'id4222111319320070706_20060901_l5_refl.aux', 'id4222111319320070706_20060901_20080906_mask.sbn', 'id4222111319320070706_20060901_20080906_dnbr.aux', 'id4222111319320070706_20060901_20080906_burn_bndy.dbf', 'id4222111319320070706_20060901_20080906_rdnbr.aux', 'id4222111319320070706_20080906_l5_refl.tif'] subfiles\n",
      "nv4176911415120070718.zip First\n",
      "temp_folder subroot\n",
      "[] subdirs\n",
      "['nv4176911415120070718_map.pdf', 'nv4176911415120070718_20060924_20070911_burn_bndy.prj', 'nv4176911415120070718_20060924_20070911_rdnbr.aux', 'nv4176911415120070718_20060924_20070911_burn_bndy.sbn', 'nv4176911415120070718_20060924_l5_refl.tif', 'nv4176911415120070718_20060924_20070911_dnbr.aux', 'nv4176911415120070718_20060924_20070911_dnbr6.aux', 'nv4176911415120070718_20060924_20070911_mask.sbn', 'nv4176911415120070718_20060924_l5_refl.rrd', 'nv4176911415120070718_20070911_l5_refl.aux', 'nv4176911415120070718_20060924_20070911_mask.prj', 'nv4176911415120070718_20060924_20070911_mask.dbf', 'nv4176911415120070718_20060924_20070911_rdnbr.tif', 'nv4176911415120070718_20060924_20070911_burn_bndy.shp', 'NV4176911415120070718_20060924_20070911_metadata.xml', 'nv4176911415120070718_20060924_20070911_burn_bndy.shx', 'nv4176911415120070718_20060924_20070911_rdnbr.rrd', 'nv4176911415120070718_20060924_20070911_burn_bndy.sbx', 'nv4176911415120070718_20060924_20070911_dnbr.rrd', 'nv4176911415120070718_20070911_l5_refl.tif', 'nv4176911415120070718_20060924_20070911_dnbr6.rrd', 'nv4176911415120070718_20060924_20070911_burn_bndy.dbf', 'nv4176911415120070718_20060924_20070911_mask.sbx', 'nv4176911415120070718_20060924_20070911_dnbr.tif', 'nv4176911415120070718_20060924_20070911_mask.shx', 'nv4176911415120070718_20060924_l5_refl.aux', 'nv4176911415120070718_20070911_l5_refl.rrd', 'nv4176911415120070718_20060924_20070911_dnbr6.tif', 'nv4176911415120070718_20060924_20070911.kmz', 'nv4176911415120070718_20060924_20070911_mask.shp'] subfiles\n"
     ]
    }
   ],
   "source": [
    "# Define the path to the top-level folder\n",
    "path_to_folder = \"mtbs\"\n",
    "\n",
    "# Define a list to store the extracted data\n",
    "data = []\n",
    "\n",
    "# Loop through all subdirectories and files in the folder\n",
    "for root, dirs, files in os.walk(path_to_folder):\n",
    "    # Loop through all zip files in each directory\n",
    "    for file in files:\n",
    "        if file.endswith(\".zip\"):\n",
    "            print(file, \"First\")\n",
    "            # Extract the zip file to a temporary folder\n",
    "            with zipfile.ZipFile(os.path.join(root, file), \"r\") as zip_ref:\n",
    "                temp_folder = \"temp_folder\"\n",
    "                zip_ref.extractall(temp_folder)\n",
    "            \n",
    "            # Loop through all files in the extracted folder\n",
    "            for subroot, subdirs, subfiles in os.walk(temp_folder):\n",
    "                print(subroot, \"subroot\")\n",
    "                print(subdirs, \"subdirs\")\n",
    "                print(subfiles, \"subfiles\")\n",
    "                for subfile in subfiles:\n",
    "                    if subfile.endswith(\".xml\"):\n",
    "                        print(\"FOUND XML FILES\")\n",
    "                        # Read the xml file and extract the relevant data\n",
    "                        xml_file = os.path.join(subroot, subfile)\n",
    "                        tree = ET.parse(xml_file)\n",
    "                        xml_root = tree.getroot() # Rename this variable to avoid overwriting the `root` variable used for directory path\n",
    "                        for child in xml_root.iter():\n",
    "                            if child.tag == \"Fire Information\":\n",
    "                                # Extract the 10 lines after the \"Fire Information\" tag\n",
    "                                data.append([child.text.strip()] + [x.strip() for x in child.itertext()][1:11])\n",
    "            \n",
    "            # Delete the temporary folder\n",
    "            os.system(f\"rm -rf {temp_folder}\")\n",
    "\n",
    "# Create a pandas dataframe from the extracted data\n",
    "df = pd.DataFrame(data, columns=[\"Fire Information\", \"Line 1\", \"Line 2\", \"Line 3\", \"Line 4\", \"Line 5\", \"Line 6\", \"Line 7\", \"Line 8\", \"Line 9\", \"Line 10\"])\n"
   ]
  },
  {
   "cell_type": "code",
   "execution_count": 31,
   "id": "9b8d71b3",
   "metadata": {},
   "outputs": [
    {
     "data": {
      "text/plain": [
       "[]"
      ]
     },
     "execution_count": 31,
     "metadata": {},
     "output_type": "execute_result"
    }
   ],
   "source": [
    "data"
   ]
  },
  {
   "cell_type": "code",
   "execution_count": null,
   "id": "8fdbea86",
   "metadata": {},
   "outputs": [],
   "source": []
  }
 ],
 "metadata": {
  "kernelspec": {
   "display_name": "Python 3 (ipykernel)",
   "language": "python",
   "name": "python3"
  },
  "language_info": {
   "codemirror_mode": {
    "name": "ipython",
    "version": 3
   },
   "file_extension": ".py",
   "mimetype": "text/x-python",
   "name": "python",
   "nbconvert_exporter": "python",
   "pygments_lexer": "ipython3",
   "version": "3.9.13"
  }
 },
 "nbformat": 4,
 "nbformat_minor": 5
}
